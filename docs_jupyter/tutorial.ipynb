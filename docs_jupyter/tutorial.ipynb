{
 "cells": [
  {
   "cell_type": "markdown",
   "metadata": {},
   "source": [
    "# Tutorial\n",
    "\n",
    "I assume you've already installed refgenie. In this tutorial I'll show you a few ways to use refgenie from the command line (commands that start with a `!`), and also some Python commands.\n",
    "\n",
    "To start, initialize an empty refgenie configuration file from the shell and subscribe to the desired asset server:"
   ]
  },
  {
   "cell_type": "code",
   "execution_count": 1,
   "metadata": {
    "scrolled": true
   },
   "outputs": [
    {
     "name": "stdout",
     "output_type": "stream",
     "text": [
      "Initialized genome configuration file: /Users/mstolarczyk/code/refgenie/docs_jupyter/refgenie.yaml\r\n",
      "Created directories:\r\n",
      " - /Users/mstolarczyk/code/refgenie/docs_jupyter/data\r\n",
      " - /Users/mstolarczyk/code/refgenie/docs_jupyter/alias\r\n"
     ]
    }
   ],
   "source": [
    "!refgenie init -c refgenie.yaml -s http://rg.databio.org:82"
   ]
  },
  {
   "cell_type": "markdown",
   "metadata": {},
   "source": [
    "Here's what it looks like:"
   ]
  },
  {
   "cell_type": "code",
   "execution_count": 2,
   "metadata": {},
   "outputs": [
    {
     "name": "stdout",
     "output_type": "stream",
     "text": [
      "config_version: 0.4\r\n",
      "genome_folder: /Users/mstolarczyk/code/refgenie/docs_jupyter\r\n",
      "genome_servers: \r\n",
      " - http://rg.databio.org:82\r\n",
      "genomes: null\r\n"
     ]
    }
   ],
   "source": [
    "!cat refgenie.yaml"
   ]
  },
  {
   "cell_type": "markdown",
   "metadata": {},
   "source": [
    "Now let's enter python and do some stuff."
   ]
  },
  {
   "cell_type": "code",
   "execution_count": 3,
   "metadata": {},
   "outputs": [],
   "source": [
    "import refgenconf\n",
    "rgc = refgenconf.RefGenConf(\"refgenie.yaml\")"
   ]
  },
  {
   "cell_type": "markdown",
   "metadata": {},
   "source": [
    "Use `listr` to see what's available on the server:"
   ]
  },
  {
   "cell_type": "code",
   "execution_count": 4,
   "metadata": {},
   "outputs": [
    {
     "data": {
      "text/plain": [
       "{'http://rg.databio.org:82/v3/assets': OrderedDict([('hg38',\n",
       "               ['bowtie2_index:default',\n",
       "                'fasta.chrom_sizes:default',\n",
       "                'fasta.fai:default',\n",
       "                'fasta:default']),\n",
       "              ('human_repeats',\n",
       "               ['bwa_index:default',\n",
       "                'fasta.chrom_sizes:default',\n",
       "                'fasta.fai:default',\n",
       "                'fasta:default',\n",
       "                'hisat2_index:default']),\n",
       "              ('mouse_chrM2x',\n",
       "               ['bowtie2_index:default',\n",
       "                'bwa_index:default',\n",
       "                'fasta.chrom_sizes:default',\n",
       "                'fasta.fai:default',\n",
       "                'fasta:default']),\n",
       "              ('rCRSd',\n",
       "               ['bowtie2_index:default',\n",
       "                'fasta.chrom_sizes:default',\n",
       "                'fasta.fai:default',\n",
       "                'fasta:default'])])}"
      ]
     },
     "execution_count": 4,
     "metadata": {},
     "output_type": "execute_result"
    }
   ],
   "source": [
    "rgc.listr()"
   ]
  },
  {
   "cell_type": "markdown",
   "metadata": {},
   "source": [
    "Use `pull` to download one of the assets:"
   ]
  },
  {
   "cell_type": "code",
   "execution_count": 5,
   "metadata": {},
   "outputs": [
    {
     "data": {
      "application/vnd.jupyter.widget-view+json": {
       "model_id": "7640cd78195940e7a21600a1313320f8",
       "version_major": 2,
       "version_minor": 0
      },
      "text/plain": [
       "Output()"
      ]
     },
     "metadata": {},
     "output_type": "display_data"
    },
    {
     "data": {
      "text/plain": [
       "(['194f8681e3d9e35b9eca2d17ec5e36bbf5e8c2beea486496', 'fasta', 'default'],\n",
       " {'asset_path': 'fasta',\n",
       "  'asset_digest': '8dfe402f7d29d5b036dd8937119e4404',\n",
       "  'archive_digest': 'deae753231ebb9df82622c7140e0bd3a',\n",
       "  'asset_size': '46.8KB',\n",
       "  'archive_size': '9.1KB',\n",
       "  'seek_keys': {'fasta': '194f8681e3d9e35b9eca2d17ec5e36bbf5e8c2beea486496.fa',\n",
       "   'fai': '194f8681e3d9e35b9eca2d17ec5e36bbf5e8c2beea486496.fa.fai',\n",
       "   'chrom_sizes': '194f8681e3d9e35b9eca2d17ec5e36bbf5e8c2beea486496.chrom.sizes'},\n",
       "  'asset_parents': [],\n",
       "  'asset_children': ['194f8681e3d9e35b9eca2d17ec5e36bbf5e8c2beea486496/bwa_index:default',\n",
       "   '194f8681e3d9e35b9eca2d17ec5e36bbf5e8c2beea486496/bowtie2_index:default']},\n",
       " 'http://rg.databio.org:82')"
      ]
     },
     "execution_count": 5,
     "metadata": {},
     "output_type": "execute_result"
    }
   ],
   "source": [
    "rgc.pull(\"mouse_chrM2x\", \"fasta\", \"default\")"
   ]
  },
  {
   "cell_type": "markdown",
   "metadata": {},
   "source": [
    "Once it's downloaded, use `seek` to retrieve a path to it."
   ]
  },
  {
   "cell_type": "code",
   "execution_count": 6,
   "metadata": {},
   "outputs": [
    {
     "data": {
      "text/plain": [
       "'/Users/mstolarczyk/code/refgenie/docs_jupyter/alias/mouse_chrM2x/fasta/default/mouse_chrM2x.fa'"
      ]
     },
     "execution_count": 6,
     "metadata": {},
     "output_type": "execute_result"
    }
   ],
   "source": [
    "rgc.seek(\"mouse_chrM2x\", \"fasta\")"
   ]
  },
  {
   "cell_type": "markdown",
   "metadata": {},
   "source": [
    "You can get the unique asset identifier with `id()`"
   ]
  },
  {
   "cell_type": "code",
   "execution_count": 7,
   "metadata": {},
   "outputs": [
    {
     "data": {
      "text/plain": [
       "'8dfe402f7d29d5b036dd8937119e4404'"
      ]
     },
     "execution_count": 7,
     "metadata": {},
     "output_type": "execute_result"
    }
   ],
   "source": [
    "rgc.id(\"mouse_chrM2x\", \"fasta\")"
   ]
  },
  {
   "cell_type": "markdown",
   "metadata": {},
   "source": [
    "## Building and pulling from the command line"
   ]
  },
  {
   "cell_type": "markdown",
   "metadata": {},
   "source": [
    "Here, we can build a fasta asset instead of pulling one. Back to the shell, we'll grab the Revised Cambridge Reference Sequence (human mitochondrial genome, because it's small):"
   ]
  },
  {
   "cell_type": "code",
   "execution_count": 8,
   "metadata": {},
   "outputs": [
    {
     "name": "stdout",
     "output_type": "stream",
     "text": [
      "--2020-11-02 08:49:28--  http://big.databio.org/refgenie_raw/files.rCRSd.fasta.fasta\n",
      "Resolving big.databio.org (big.databio.org)... 128.143.245.181, 128.143.245.182\n",
      "Connecting to big.databio.org (big.databio.org)|128.143.245.181|:80... connected.\n",
      "HTTP request sent, awaiting response... 200 OK\n",
      "Length: 8399 (8.2K) [application/octet-stream]\n",
      "Saving to: ‘rCRSd.fa.gz’\n",
      "\n",
      "rCRSd.fa.gz         100%[===================>]   8.20K  10.3KB/s    in 0.8s    \n",
      "\n",
      "2020-11-02 08:49:29 (10.3 KB/s) - ‘rCRSd.fa.gz’ saved [8399/8399]\n",
      "\n"
     ]
    }
   ],
   "source": [
    "!wget -O rCRSd.fa.gz http://big.databio.org/refgenie_raw/files.rCRSd.fasta.fasta"
   ]
  },
  {
   "cell_type": "code",
   "execution_count": 9,
   "metadata": {},
   "outputs": [
    {
     "name": "stdout",
     "output_type": "stream",
     "text": [
      "Using 'default' as the default tag for 'rCRSd/fasta'\n",
      "Recipe validated successfully against a schema: /Library/Frameworks/Python.framework/Versions/3.6/lib/python3.6/site-packages/refgenie/schemas/recipe_schema.yaml\n",
      "Building 'rCRSd/fasta:default' using 'fasta' recipe\n",
      "Initializing genome: rCRSd\n",
      "Loaded AnnotatedSequenceDigestList (1 sequences)\n",
      "Set genome alias (511fb1178275e7d529560d53b949dba40815f195623bce8e: rCRSd)\n",
      "Created alias directories: \n",
      " - /Users/mstolarczyk/code/refgenie/docs_jupyter/alias/rCRSd\n",
      "Saving outputs to:\n",
      "- content: /Users/mstolarczyk/code/refgenie/docs_jupyter/data/511fb1178275e7d529560d53b949dba40815f195623bce8e\n",
      "- logs: /Users/mstolarczyk/code/refgenie/docs_jupyter/data/511fb1178275e7d529560d53b949dba40815f195623bce8e/fasta/default/_refgenie_build\n",
      "### Pipeline run code and environment:\n",
      "\n",
      "*              Command:  `/Library/Frameworks/Python.framework/Versions/3.6/bin/refgenie build rCRSd/fasta -c refgenie.yaml --files fasta=rCRSd.fa.gz -R`\n",
      "*         Compute host:  MichalsMBP\n",
      "*          Working dir:  /Users/mstolarczyk/code/refgenie/docs_jupyter\n",
      "*            Outfolder:  /Users/mstolarczyk/code/refgenie/docs_jupyter/data/511fb1178275e7d529560d53b949dba40815f195623bce8e/fasta/default/_refgenie_build/\n",
      "*  Pipeline started at:   (11-02 08:49:30) elapsed: 0.0 _TIME_\n",
      "\n",
      "### Version log:\n",
      "\n",
      "*       Python version:  3.6.5\n",
      "*          Pypiper dir:  `/Library/Frameworks/Python.framework/Versions/3.6/lib/python3.6/site-packages/pypiper`\n",
      "*      Pypiper version:  0.12.1\n",
      "*         Pipeline dir:  `/Library/Frameworks/Python.framework/Versions/3.6/bin`\n",
      "*     Pipeline version:  None\n",
      "\n",
      "### Arguments passed to pipeline:\n",
      "\n",
      "* `asset_registry_paths`:  `['rCRSd/fasta']`\n",
      "*             `assets`:  `None`\n",
      "*            `command`:  `build`\n",
      "*        `config_file`:  `refgenie.yaml`\n",
      "*             `docker`:  `False`\n",
      "*              `files`:  `[['fasta=rCRSd.fa.gz']]`\n",
      "*             `genome`:  `None`\n",
      "*      `genome_config`:  `refgenie.yaml`\n",
      "* `genome_description`:  `None`\n",
      "*             `logdev`:  `False`\n",
      "*          `new_start`:  `False`\n",
      "*          `outfolder`:  `/Users/mstolarczyk/code/refgenie/docs_jupyter/data`\n",
      "*             `params`:  `None`\n",
      "*             `recipe`:  `None`\n",
      "*            `recover`:  `True`\n",
      "*       `requirements`:  `False`\n",
      "*             `silent`:  `False`\n",
      "*     `skip_read_lock`:  `False`\n",
      "*    `tag_description`:  `None`\n",
      "*          `verbosity`:  `None`\n",
      "*            `volumes`:  `None`\n",
      "\n",
      "----------------------------------------\n",
      "\n",
      "Target to produce: `/Users/mstolarczyk/code/refgenie/docs_jupyter/data/511fb1178275e7d529560d53b949dba40815f195623bce8e/fasta/default/_refgenie_build/511fb1178275e7d529560d53b949dba40815f195623bce8e_fasta__default.flag`  \n",
      "\n",
      "> `cp rCRSd.fa.gz /Users/mstolarczyk/code/refgenie/docs_jupyter/data/511fb1178275e7d529560d53b949dba40815f195623bce8e/fasta/default/511fb1178275e7d529560d53b949dba40815f195623bce8e.fa.gz` (28209)\n",
      "<pre>\n",
      "psutil.ZombieProcess process still exists but it's a zombie (pid=28209)\n",
      "Warning: couldn't add memory use for process: 28209\n",
      "</pre>\n",
      "Command completed. Elapsed time: 0:00:00. Running peak memory: 0.0GB.  \n",
      "  PID: 28209;\tCommand: cp;\tReturn code: 0;\tMemory used: 0.0GB\n",
      "\n",
      "\n",
      "> `gzip -df /Users/mstolarczyk/code/refgenie/docs_jupyter/data/511fb1178275e7d529560d53b949dba40815f195623bce8e/fasta/default/511fb1178275e7d529560d53b949dba40815f195623bce8e.fa.gz` (28210)\n",
      "<pre>\n",
      "psutil.ZombieProcess process still exists but it's a zombie (pid=28210)\n",
      "Warning: couldn't add memory use for process: 28210\n",
      "</pre>\n",
      "Command completed. Elapsed time: 0:00:00. Running peak memory: 0.0GB.  \n",
      "  PID: 28210;\tCommand: gzip;\tReturn code: 0;\tMemory used: 0.0GB\n",
      "\n",
      "\n",
      "> `samtools faidx /Users/mstolarczyk/code/refgenie/docs_jupyter/data/511fb1178275e7d529560d53b949dba40815f195623bce8e/fasta/default/511fb1178275e7d529560d53b949dba40815f195623bce8e.fa` (28211)\n",
      "<pre>\n",
      "</pre>\n",
      "Command completed. Elapsed time: 0:00:00. Running peak memory: 0.002GB.  \n",
      "  PID: 28211;\tCommand: samtools;\tReturn code: 0;\tMemory used: 0.002GB\n",
      "\n",
      "\n",
      "> `cut -f 1,2 /Users/mstolarczyk/code/refgenie/docs_jupyter/data/511fb1178275e7d529560d53b949dba40815f195623bce8e/fasta/default/511fb1178275e7d529560d53b949dba40815f195623bce8e.fa.fai > /Users/mstolarczyk/code/refgenie/docs_jupyter/data/511fb1178275e7d529560d53b949dba40815f195623bce8e/fasta/default/511fb1178275e7d529560d53b949dba40815f195623bce8e.chrom.sizes` (28212)\n",
      "<pre>\n",
      "psutil.ZombieProcess process still exists but it's a zombie (pid=28212)\n",
      "Warning: couldn't add memory use for process: 28212\n",
      "</pre>\n",
      "Command completed. Elapsed time: 0:00:00. Running peak memory: 0.002GB.  \n",
      "  PID: 28212;\tCommand: cut;\tReturn code: 0;\tMemory used: 0.001GB\n",
      "\n",
      "\n",
      "> `touch /Users/mstolarczyk/code/refgenie/docs_jupyter/data/511fb1178275e7d529560d53b949dba40815f195623bce8e/fasta/default/_refgenie_build/511fb1178275e7d529560d53b949dba40815f195623bce8e_fasta__default.flag` (28214)\n",
      "<pre>\n",
      "psutil.ZombieProcess process still exists but it's a zombie (pid=28214)\n",
      "Warning: couldn't add memory use for process: 28214\n",
      "</pre>\n",
      "Command completed. Elapsed time: 0:00:00. Running peak memory: 0.002GB.  \n",
      "  PID: 28214;\tCommand: touch;\tReturn code: 0;\tMemory used: 0GB\n",
      "\n",
      "Asset digest: 4eb430296bc02ed7e4006624f1d5ac53\n",
      "Default tag for '511fb1178275e7d529560d53b949dba40815f195623bce8e/fasta' set to: default\n",
      "\n",
      "### Pipeline completed. Epilogue\n",
      "*        Elapsed time (this run):  0:00:00\n",
      "*  Total elapsed time (all runs):  0:00:00\n",
      "*         Peak memory (this run):  0.0016 GB\n",
      "*        Pipeline completed time: 2020-11-02 08:49:30\n",
      "Finished building 'fasta' asset\n"
     ]
    }
   ],
   "source": [
    "!refgenie build rCRSd/fasta -c refgenie.yaml  --files fasta=rCRSd.fa.gz -R"
   ]
  },
  {
   "cell_type": "code",
   "execution_count": 10,
   "metadata": {},
   "outputs": [
    {
     "name": "stdout",
     "output_type": "stream",
     "text": [
      "/Users/mstolarczyk/code/refgenie/docs_jupyter/alias/rCRSd/fasta/default/rCRSd.fa\r\n"
     ]
    }
   ],
   "source": [
    "!refgenie seek rCRSd/fasta -c refgenie.yaml"
   ]
  },
  {
   "cell_type": "markdown",
   "metadata": {},
   "source": [
    "You can do the same thing from within python:"
   ]
  },
  {
   "cell_type": "code",
   "execution_count": 11,
   "metadata": {},
   "outputs": [
    {
     "data": {
      "text/plain": [
       "'/Users/mstolarczyk/code/refgenie/docs_jupyter/alias/rCRSd/fasta/default/rCRSd.fa'"
      ]
     },
     "execution_count": 11,
     "metadata": {},
     "output_type": "execute_result"
    }
   ],
   "source": [
    "rgc = refgenconf.RefGenConf(\"refgenie.yaml\")\n",
    "rgc.seek(\"rCRSd\", \"fasta\")"
   ]
  },
  {
   "cell_type": "markdown",
   "metadata": {},
   "source": [
    " Now if you have bowtie2-build in your PATH you can build the bowtie2 index with no further requirements.\n",
    "\n",
    "You can see the requirements with `--requirements`:\n"
   ]
  },
  {
   "cell_type": "code",
   "execution_count": 12,
   "metadata": {},
   "outputs": [
    {
     "name": "stdout",
     "output_type": "stream",
     "text": [
      "'bowtie2_index' recipe requirements: \r\n",
      "- assets:\r\n",
      "\tfasta (fasta asset for genome); default: fasta\r\n"
     ]
    }
   ],
   "source": [
    "!refgenie build rCRSd/bowtie2_index -c refgenie.yaml --requirements"
   ]
  },
  {
   "cell_type": "markdown",
   "metadata": {},
   "source": [
    "Since I already have the fasta asset, that means I don't need anything else to build the bowtie2_index."
   ]
  },
  {
   "cell_type": "code",
   "execution_count": 13,
   "metadata": {},
   "outputs": [
    {
     "name": "stdout",
     "output_type": "stream",
     "text": [
      "Using 'default' as the default tag for 'rCRSd/bowtie2_index'\n",
      "Recipe validated successfully against a schema: /Library/Frameworks/Python.framework/Versions/3.6/lib/python3.6/site-packages/refgenie/schemas/recipe_schema.yaml\n",
      "Building 'rCRSd/bowtie2_index:default' using 'bowtie2_index' recipe\n",
      "Saving outputs to:\n",
      "- content: /Users/mstolarczyk/code/refgenie/docs_jupyter/data/511fb1178275e7d529560d53b949dba40815f195623bce8e\n",
      "- logs: /Users/mstolarczyk/code/refgenie/docs_jupyter/data/511fb1178275e7d529560d53b949dba40815f195623bce8e/bowtie2_index/default/_refgenie_build\n",
      "### Pipeline run code and environment:\n",
      "\n",
      "*              Command:  `/Library/Frameworks/Python.framework/Versions/3.6/bin/refgenie build rCRSd/bowtie2_index -c refgenie.yaml`\n",
      "*         Compute host:  MichalsMBP\n",
      "*          Working dir:  /Users/mstolarczyk/code/refgenie/docs_jupyter\n",
      "*            Outfolder:  /Users/mstolarczyk/code/refgenie/docs_jupyter/data/511fb1178275e7d529560d53b949dba40815f195623bce8e/bowtie2_index/default/_refgenie_build/\n",
      "*  Pipeline started at:   (11-02 08:49:34) elapsed: 0.0 _TIME_\n",
      "\n",
      "### Version log:\n",
      "\n",
      "*       Python version:  3.6.5\n",
      "*          Pypiper dir:  `/Library/Frameworks/Python.framework/Versions/3.6/lib/python3.6/site-packages/pypiper`\n",
      "*      Pypiper version:  0.12.1\n",
      "*         Pipeline dir:  `/Library/Frameworks/Python.framework/Versions/3.6/bin`\n",
      "*     Pipeline version:  None\n",
      "\n",
      "### Arguments passed to pipeline:\n",
      "\n",
      "* `asset_registry_paths`:  `['rCRSd/bowtie2_index']`\n",
      "*             `assets`:  `None`\n",
      "*            `command`:  `build`\n",
      "*        `config_file`:  `refgenie.yaml`\n",
      "*             `docker`:  `False`\n",
      "*              `files`:  `None`\n",
      "*             `genome`:  `None`\n",
      "*      `genome_config`:  `refgenie.yaml`\n",
      "* `genome_description`:  `None`\n",
      "*             `logdev`:  `False`\n",
      "*          `new_start`:  `False`\n",
      "*          `outfolder`:  `/Users/mstolarczyk/code/refgenie/docs_jupyter/data`\n",
      "*             `params`:  `None`\n",
      "*             `recipe`:  `None`\n",
      "*            `recover`:  `False`\n",
      "*       `requirements`:  `False`\n",
      "*             `silent`:  `False`\n",
      "*     `skip_read_lock`:  `False`\n",
      "*    `tag_description`:  `None`\n",
      "*          `verbosity`:  `None`\n",
      "*            `volumes`:  `None`\n",
      "\n",
      "----------------------------------------\n",
      "\n",
      "Target to produce: `/Users/mstolarczyk/code/refgenie/docs_jupyter/data/511fb1178275e7d529560d53b949dba40815f195623bce8e/bowtie2_index/default/_refgenie_build/511fb1178275e7d529560d53b949dba40815f195623bce8e_bowtie2_index__default.flag`  \n",
      "\n",
      "> `bowtie2-build /Users/mstolarczyk/code/refgenie/docs_jupyter/data/511fb1178275e7d529560d53b949dba40815f195623bce8e/fasta/default/511fb1178275e7d529560d53b949dba40815f195623bce8e.fa /Users/mstolarczyk/code/refgenie/docs_jupyter/data/511fb1178275e7d529560d53b949dba40815f195623bce8e/bowtie2_index/default/511fb1178275e7d529560d53b949dba40815f195623bce8e` (28246)\n",
      "<pre>\n",
      "Settings:\n",
      "  Output files: \"/Users/mstolarczyk/code/refgenie/docs_jupyter/data/511fb1178275e7d529560d53b949dba40815f195623bce8e/bowtie2_index/default/511fb1178275e7d529560d53b949dba40815f195623bce8e.*.bt2\"\n",
      "  Line rate: 6 (line is 64 bytes)\n",
      "  Lines per side: 1 (side is 64 bytes)\n",
      "  Offset rate: 4 (one in 16)\n",
      "  FTable chars: 10\n",
      "  Strings: unpacked\n",
      "  Max bucket size: default\n",
      "  Max bucket size, sqrt multiplier: default\n",
      "  Max bucket size, len divisor: 4\n",
      "  Difference-cover sample period: 1024\n",
      "  Endianness: little\n",
      "  Actual local endianness: little\n",
      "  Sanity checking: disabled\n",
      "  Assertions: disabled\n",
      "  Random seed: 0\n",
      "  Sizeofs: void*:8, int:4, long:8, size_t:8\n",
      "Input files DNA, FASTA:\n",
      "  /Users/mstolarczyk/code/refgenie/docs_jupyter/data/511fb1178275e7d529560d53b949dba40815f195623bce8e/fasta/default/511fb1178275e7d529560d53b949dba40815f195623bce8e.fa\n",
      "Building a SMALL index\n",
      "Reading reference sizes\n",
      "  Time reading reference sizes: 00:00:00\n",
      "Calculating joined length\n",
      "Writing header\n",
      "Reserving space for joined string\n",
      "Joining reference sequences\n",
      "  Time to join reference sequences: 00:00:00\n",
      "bmax according to bmaxDivN setting: 8284\n",
      "Using parameters --bmax 6213 --dcv 1024\n",
      "  Doing ahead-of-time memory usage test\n",
      "  Passed!  Constructing with these parameters: --bmax 6213 --dcv 1024\n",
      "Constructing suffix-array element generator\n",
      "Building DifferenceCoverSample\n",
      "  Building sPrime\n",
      "  Building sPrimeOrder\n",
      "  V-Sorting samples\n",
      "  V-Sorting samples time: 00:00:00\n",
      "  Allocating rank array\n",
      "  Ranking v-sort output\n",
      "  Ranking v-sort output time: 00:00:00\n",
      "  Invoking Larsson-Sadakane on ranks\n",
      "  Invoking Larsson-Sadakane on ranks time: 00:00:00\n",
      "  Sanity-checking and returning\n",
      "Building samples\n",
      "Reserving space for 12 sample suffixes\n",
      "Generating random suffixes\n",
      "QSorting 12 sample offsets, eliminating duplicates\n",
      "QSorting sample offsets, eliminating duplicates time: 00:00:00\n",
      "Multikey QSorting 12 samples\n",
      "  (Using difference cover)\n",
      "  Multikey QSorting samples time: 00:00:00\n",
      "Calculating bucket sizes\n",
      "Splitting and merging\n",
      "  Splitting and merging time: 00:00:00\n",
      "Avg bucket size: 33136 (target: 6212)\n",
      "Converting suffix-array elements to index image\n",
      "Allocating ftab, absorbFtab\n",
      "Entering Ebwt loop\n",
      "Getting block 1 of 1\n",
      "  No samples; assembling all-inclusive block\n",
      "  Sorting block of length 33136 for bucket 1\n",
      "  (Using difference cover)\n",
      "  Sorting block time: 00:00:00\n",
      "Returning block of 33137 for bucket 1\n",
      "Exited Ebwt loop\n",
      "fchr[A]: 0\n",
      "fchr[C]: 10248\n",
      "fchr[G]: 20610\n",
      "fchr[T]: 24948\n",
      "fchr[$]: 33136\n",
      "Exiting Ebwt::buildToDisk()\n",
      "Returning from initFromVector\n",
      "Wrote 4205567 bytes to primary EBWT file: /Users/mstolarczyk/code/refgenie/docs_jupyter/data/511fb1178275e7d529560d53b949dba40815f195623bce8e/bowtie2_index/default/511fb1178275e7d529560d53b949dba40815f195623bce8e.1.bt2\n",
      "Wrote 8292 bytes to secondary EBWT file: /Users/mstolarczyk/code/refgenie/docs_jupyter/data/511fb1178275e7d529560d53b949dba40815f195623bce8e/bowtie2_index/default/511fb1178275e7d529560d53b949dba40815f195623bce8e.2.bt2\n",
      "Re-opening _in1 and _in2 as input streams\n",
      "Returning from Ebwt constructor\n",
      "Headers:\n",
      "    len: 33136\n",
      "    bwtLen: 33137\n",
      "    sz: 8284\n",
      "    bwtSz: 8285\n",
      "    lineRate: 6\n",
      "    offRate: 4\n",
      "    offMask: 0xfffffff0\n",
      "    ftabChars: 10\n",
      "    eftabLen: 20\n",
      "    eftabSz: 80\n",
      "    ftabLen: 1048577\n",
      "    ftabSz: 4194308\n",
      "    offsLen: 2072\n",
      "    offsSz: 8288\n",
      "    lineSz: 64\n",
      "    sideSz: 64\n",
      "    sideBwtSz: 48\n",
      "    sideBwtLen: 192\n",
      "    numSides: 173\n",
      "    numLines: 173\n",
      "    ebwtTotLen: 11072\n",
      "    ebwtTotSz: 11072\n",
      "    color: 0\n",
      "    reverse: 0\n",
      "Total time for call to driver() for forward index: 00:00:00\n",
      "Reading reference sizes\n",
      "  Time reading reference sizes: 00:00:00\n",
      "Calculating joined length\n",
      "Writing header\n",
      "Reserving space for joined string\n",
      "Joining reference sequences\n",
      "  Time to join reference sequences: 00:00:00\n",
      "  Time to reverse reference sequence: 00:00:00\n",
      "bmax according to bmaxDivN setting: 8284\n",
      "Using parameters --bmax 6213 --dcv 1024\n",
      "  Doing ahead-of-time memory usage test\n",
      "  Passed!  Constructing with these parameters: --bmax 6213 --dcv 1024\n",
      "Constructing suffix-array element generator\n",
      "Building DifferenceCoverSample\n",
      "  Building sPrime\n",
      "  Building sPrimeOrder\n",
      "  V-Sorting samples\n",
      "  V-Sorting samples time: 00:00:00\n",
      "  Allocating rank array\n",
      "  Ranking v-sort output\n",
      "  Ranking v-sort output time: 00:00:00\n",
      "  Invoking Larsson-Sadakane on ranks\n",
      "  Invoking Larsson-Sadakane on ranks time: 00:00:00\n",
      "  Sanity-checking and returning\n",
      "Building samples\n",
      "Reserving space for 12 sample suffixes\n",
      "Generating random suffixes\n",
      "QSorting 12 sample offsets, eliminating duplicates\n",
      "QSorting sample offsets, eliminating duplicates time: 00:00:00\n",
      "Multikey QSorting 12 samples\n",
      "  (Using difference cover)\n",
      "  Multikey QSorting samples time: 00:00:00\n",
      "Calculating bucket sizes\n",
      "Splitting and merging\n",
      "  Splitting and merging time: 00:00:00\n",
      "Avg bucket size: 33136 (target: 6212)\n",
      "Converting suffix-array elements to index image\n",
      "Allocating ftab, absorbFtab\n",
      "Entering Ebwt loop\n",
      "Getting block 1 of 1\n",
      "  No samples; assembling all-inclusive block\n",
      "  Sorting block of length 33136 for bucket 1\n",
      "  (Using difference cover)\n",
      "  Sorting block time: 00:00:00\n",
      "Returning block of 33137 for bucket 1\n",
      "Exited Ebwt loop\n",
      "fchr[A]: 0\n",
      "fchr[C]: 10248\n",
      "fchr[G]: 20610\n",
      "fchr[T]: 24948\n",
      "fchr[$]: 33136\n",
      "Exiting Ebwt::buildToDisk()\n",
      "Returning from initFromVector\n",
      "Wrote 4205567 bytes to primary EBWT file: /Users/mstolarczyk/code/refgenie/docs_jupyter/data/511fb1178275e7d529560d53b949dba40815f195623bce8e/bowtie2_index/default/511fb1178275e7d529560d53b949dba40815f195623bce8e.rev.1.bt2\n",
      "Wrote 8292 bytes to secondary EBWT file: /Users/mstolarczyk/code/refgenie/docs_jupyter/data/511fb1178275e7d529560d53b949dba40815f195623bce8e/bowtie2_index/default/511fb1178275e7d529560d53b949dba40815f195623bce8e.rev.2.bt2\n",
      "Re-opening _in1 and _in2 as input streams\n",
      "Returning from Ebwt constructor\n",
      "Headers:\n",
      "    len: 33136\n",
      "    bwtLen: 33137\n",
      "    sz: 8284\n",
      "    bwtSz: 8285\n",
      "    lineRate: 6\n",
      "    offRate: 4\n",
      "    offMask: 0xfffffff0\n",
      "    ftabChars: 10\n",
      "    eftabLen: 20\n",
      "    eftabSz: 80\n",
      "    ftabLen: 1048577\n",
      "    ftabSz: 4194308\n",
      "    offsLen: 2072\n",
      "    offsSz: 8288\n",
      "    lineSz: 64\n",
      "    sideSz: 64\n",
      "    sideBwtSz: 48\n",
      "    sideBwtLen: 192\n",
      "    numSides: 173\n",
      "    numLines: 173\n",
      "    ebwtTotLen: 11072\n",
      "    ebwtTotSz: 11072\n",
      "    color: 0\n",
      "    reverse: 1\n",
      "Total time for backward call to driver() for mirror index: 00:00:00\n",
      "</pre>\n",
      "Command completed. Elapsed time: 0:00:01. Running peak memory: 0.0GB.  \n",
      "  PID: 28246;\tCommand: bowtie2-build;\tReturn code: 0;\tMemory used: 0.0GB\n",
      "\n",
      "\n",
      "> `touch /Users/mstolarczyk/code/refgenie/docs_jupyter/data/511fb1178275e7d529560d53b949dba40815f195623bce8e/bowtie2_index/default/_refgenie_build/511fb1178275e7d529560d53b949dba40815f195623bce8e_bowtie2_index__default.flag` (28248)\n",
      "<pre>\n",
      "psutil.ZombieProcess process still exists but it's a zombie (pid=28248)\n",
      "Warning: couldn't add memory use for process: 28248\n",
      "</pre>\n",
      "Command completed. Elapsed time: 0:00:00. Running peak memory: 0.0GB.  \n",
      "  PID: 28248;\tCommand: touch;\tReturn code: 0;\tMemory used: 0GB\n",
      "\n"
     ]
    },
    {
     "name": "stdout",
     "output_type": "stream",
     "text": [
      "Asset digest: 1262e30d4a87db9365d501de8559b3b4\n",
      "Default tag for '511fb1178275e7d529560d53b949dba40815f195623bce8e/bowtie2_index' set to: default\n",
      "\n",
      "### Pipeline completed. Epilogue\n",
      "*        Elapsed time (this run):  0:00:01\n",
      "*  Total elapsed time (all runs):  0:00:01\n",
      "*         Peak memory (this run):  0.0003 GB\n",
      "*        Pipeline completed time: 2020-11-02 08:49:34\n",
      "Finished building 'bowtie2_index' asset\n",
      "Created alias directories: \n",
      " - /Users/mstolarczyk/code/refgenie/docs_jupyter/alias/rCRSd/bowtie2_index/default\n"
     ]
    }
   ],
   "source": [
    "!refgenie build rCRSd/bowtie2_index -c refgenie.yaml"
   ]
  },
  {
   "cell_type": "markdown",
   "metadata": {},
   "source": [
    "You can see a list of available recipes like this:"
   ]
  },
  {
   "cell_type": "code",
   "execution_count": 14,
   "metadata": {},
   "outputs": [
    {
     "name": "stdout",
     "output_type": "stream",
     "text": [
      "bismark_bt1_index, bismark_bt2_index, blacklist, bowtie2_index, bwa_index, cellranger_reference, dbnsfp, dbsnp, ensembl_gtf, ensembl_rb, epilog_index, fasta, fasta_txome, feat_annotation, gencode_gtf, hisat2_index, kallisto_index, refgene_anno, salmon_index, salmon_partial_sa_index, salmon_sa_index, star_index, suffixerator_index, tallymer_index\r\n"
     ]
    }
   ],
   "source": [
    "!refgenie list -c refgenie.yaml --recipes"
   ]
  },
  {
   "cell_type": "markdown",
   "metadata": {},
   "source": [
    "You can get the unique digest for any asset with `refgenie id`:"
   ]
  },
  {
   "cell_type": "code",
   "execution_count": 15,
   "metadata": {},
   "outputs": [
    {
     "name": "stdout",
     "output_type": "stream",
     "text": [
      "4eb430296bc02ed7e4006624f1d5ac53\r\n"
     ]
    }
   ],
   "source": [
    "!refgenie id rCRSd/fasta -c refgenie.yaml"
   ]
  },
  {
   "cell_type": "markdown",
   "metadata": {},
   "source": [
    "## Versions"
   ]
  },
  {
   "cell_type": "code",
   "execution_count": 16,
   "metadata": {},
   "outputs": [
    {
     "data": {
      "text/plain": [
       "'3.6.5'"
      ]
     },
     "execution_count": 16,
     "metadata": {},
     "output_type": "execute_result"
    }
   ],
   "source": [
    "from platform import python_version \n",
    "python_version()"
   ]
  },
  {
   "cell_type": "code",
   "execution_count": 17,
   "metadata": {},
   "outputs": [
    {
     "name": "stdout",
     "output_type": "stream",
     "text": [
      "refgenie 0.10.0-dev | refgenconf 0.10.0-dev\r\n"
     ]
    }
   ],
   "source": [
    "!refgenie --version"
   ]
  }
 ],
 "metadata": {
  "kernelspec": {
   "display_name": "Python 3",
   "language": "python",
   "name": "python3"
  },
  "language_info": {
   "codemirror_mode": {
    "name": "ipython",
    "version": 3
   },
   "file_extension": ".py",
   "mimetype": "text/x-python",
   "name": "python",
   "nbconvert_exporter": "python",
   "pygments_lexer": "ipython3",
   "version": "3.6.5"
  }
 },
 "nbformat": 4,
 "nbformat_minor": 2
}
