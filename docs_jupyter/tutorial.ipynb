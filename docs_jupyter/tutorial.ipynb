{
 "cells": [
  {
   "cell_type": "markdown",
   "metadata": {},
   "source": [
    "# Tutorial\n",
    "\n",
    "I assume you've already installed refgenie. In this tutorial I'll show you a few ways to use refgenie from the command line (commands that start with a `!`), and also some Python commands.\n",
    "\n",
    "To start, initialize an empty refgenie configuration file from the shell and subscribe to the desired asset server:"
   ]
  },
  {
   "cell_type": "code",
   "execution_count": 1,
   "metadata": {
    "scrolled": true
   },
   "outputs": [
    {
     "name": "stdout",
     "output_type": "stream",
     "text": [
      "Initialized genome configuration file: /Users/mstolarczyk/code/refgenie/docs_jupyter/refgenie.yaml\r\n",
      "Created directories:\r\n",
      " - /Users/mstolarczyk/code/refgenie/docs_jupyter/data\r\n",
      " - /Users/mstolarczyk/code/refgenie/docs_jupyter/alias\r\n"
     ]
    }
   ],
   "source": [
    "!refgenie init -c refgenie.yaml -s http://rg.databio.org:82"
   ]
  },
  {
   "cell_type": "markdown",
   "metadata": {},
   "source": [
    "Here's what it looks like:"
   ]
  },
  {
   "cell_type": "code",
   "execution_count": 2,
   "metadata": {},
   "outputs": [
    {
     "name": "stdout",
     "output_type": "stream",
     "text": [
      "config_version: 0.4\r\n",
      "genome_folder: /Users/mstolarczyk/code/refgenie/docs_jupyter\r\n",
      "genome_servers: \r\n",
      " - http://rg.databio.org:82\r\n",
      "genomes: null\r\n"
     ]
    }
   ],
   "source": [
    "!cat refgenie.yaml"
   ]
  },
  {
   "cell_type": "markdown",
   "metadata": {},
   "source": [
    "Now let's enter python and do some stuff."
   ]
  },
  {
   "cell_type": "code",
   "execution_count": 3,
   "metadata": {},
   "outputs": [],
   "source": [
    "import refgenconf\n",
    "rgc = refgenconf.RefGenConf(\"refgenie.yaml\")"
   ]
  },
  {
   "cell_type": "markdown",
   "metadata": {},
   "source": [
    "Use `listr` to see what's available on the server:"
   ]
  },
  {
   "cell_type": "code",
   "execution_count": 4,
   "metadata": {},
   "outputs": [
    {
     "data": {
      "text/plain": [
       "{'http://rg.databio.org:82/v3/assets': OrderedDict([('hg38',\n",
       "               ['bowtie2_index:default',\n",
       "                'fasta.chrom_sizes:default',\n",
       "                'fasta.fai:default',\n",
       "                'fasta:default']),\n",
       "              ('human_repeats',\n",
       "               ['bwa_index:default',\n",
       "                'fasta.chrom_sizes:default',\n",
       "                'fasta.fai:default',\n",
       "                'fasta:default',\n",
       "                'hisat2_index:default']),\n",
       "              ('mouse_chrM2x',\n",
       "               ['bowtie2_index:default',\n",
       "                'bwa_index:default',\n",
       "                'fasta.chrom_sizes:default',\n",
       "                'fasta.fai:default',\n",
       "                'fasta:default']),\n",
       "              ('rCRSd',\n",
       "               ['bowtie2_index:default',\n",
       "                'fasta.chrom_sizes:default',\n",
       "                'fasta.fai:default',\n",
       "                'fasta:default'])])}"
      ]
     },
     "execution_count": 4,
     "metadata": {},
     "output_type": "execute_result"
    }
   ],
   "source": [
    "rgc.listr()"
   ]
  },
  {
   "cell_type": "markdown",
   "metadata": {},
   "source": [
    "Use `pull` to download one of the assets:"
   ]
  },
  {
   "cell_type": "code",
   "execution_count": 5,
   "metadata": {},
   "outputs": [
    {
     "data": {
      "application/vnd.jupyter.widget-view+json": {
       "model_id": "b0f4e24236b74ab9a5590e0f811cebd2",
       "version_major": 2,
       "version_minor": 0
      },
      "text/plain": [
       "Output()"
      ]
     },
     "metadata": {},
     "output_type": "display_data"
    },
    {
     "data": {
      "text/plain": [
       "(['194f8681e3d9e35b9eca2d17ec5e36bbf5e8c2beea486496', 'fasta', 'default'],\n",
       " {'asset_path': 'fasta',\n",
       "  'asset_digest': '8dfe402f7d29d5b036dd8937119e4404',\n",
       "  'archive_digest': 'deae753231ebb9df82622c7140e0bd3a',\n",
       "  'asset_size': '46.8KB',\n",
       "  'archive_size': '9.1KB',\n",
       "  'seek_keys': {'fasta': '194f8681e3d9e35b9eca2d17ec5e36bbf5e8c2beea486496.fa',\n",
       "   'fai': '194f8681e3d9e35b9eca2d17ec5e36bbf5e8c2beea486496.fa.fai',\n",
       "   'chrom_sizes': '194f8681e3d9e35b9eca2d17ec5e36bbf5e8c2beea486496.chrom.sizes'},\n",
       "  'asset_parents': [],\n",
       "  'asset_children': ['194f8681e3d9e35b9eca2d17ec5e36bbf5e8c2beea486496/bwa_index:default',\n",
       "   '194f8681e3d9e35b9eca2d17ec5e36bbf5e8c2beea486496/bowtie2_index:default']},\n",
       " 'http://rg.databio.org:82')"
      ]
     },
     "execution_count": 5,
     "metadata": {},
     "output_type": "execute_result"
    }
   ],
   "source": [
    "rgc.pull(\"mouse_chrM2x\", \"fasta\", \"default\")"
   ]
  },
  {
   "cell_type": "markdown",
   "metadata": {},
   "source": [
    "Once it's downloaded, use `seek` to retrieve a path to it."
   ]
  },
  {
   "cell_type": "code",
   "execution_count": 6,
   "metadata": {},
   "outputs": [
    {
     "data": {
      "text/plain": [
       "'/Users/mstolarczyk/code/refgenie/docs_jupyter/alias/mouse_chrM2x/fasta/default/mouse_chrM2x.fa'"
      ]
     },
     "execution_count": 6,
     "metadata": {},
     "output_type": "execute_result"
    }
   ],
   "source": [
    "rgc.seek(\"mouse_chrM2x\", \"fasta\")"
   ]
  },
  {
   "cell_type": "markdown",
   "metadata": {},
   "source": [
    "You can get the unique asset identifier with `id()`"
   ]
  },
  {
   "cell_type": "code",
   "execution_count": 7,
   "metadata": {},
   "outputs": [
    {
     "data": {
      "text/plain": [
       "'8dfe402f7d29d5b036dd8937119e4404'"
      ]
     },
     "execution_count": 7,
     "metadata": {},
     "output_type": "execute_result"
    }
   ],
   "source": [
    "rgc.id(\"mouse_chrM2x\", \"fasta\")"
   ]
  },
  {
   "cell_type": "markdown",
   "metadata": {},
   "source": [
    "## Building and pulling from the command line"
   ]
  },
  {
   "cell_type": "markdown",
   "metadata": {},
   "source": [
    "Here, we can build a fasta asset instead of pulling one. Back to the shell, we'll grab the Revised Cambridge Reference Sequence (human mitochondrial genome, because it's small):"
   ]
  },
  {
   "cell_type": "code",
   "execution_count": 8,
   "metadata": {},
   "outputs": [
    {
     "name": "stdout",
     "output_type": "stream",
     "text": [
      "--2020-10-30 10:53:02--  http://big.databio.org/refgenie_raw/files.rCRSd.fasta.fasta\n",
      "Resolving big.databio.org (big.databio.org)... 128.143.245.182, 128.143.245.181\n",
      "Connecting to big.databio.org (big.databio.org)|128.143.245.182|:80... connected.\n",
      "HTTP request sent, awaiting response... 200 OK\n",
      "Length: 8399 (8.2K) [application/octet-stream]\n",
      "Saving to: ‘rCRSd.fa.gz’\n",
      "\n",
      "rCRSd.fa.gz         100%[===================>]   8.20K  --.-KB/s    in 0.005s  \n",
      "\n",
      "2020-10-30 10:53:02 (1.65 MB/s) - ‘rCRSd.fa.gz’ saved [8399/8399]\n",
      "\n"
     ]
    }
   ],
   "source": [
    "!wget -O rCRSd.fa.gz http://big.databio.org/refgenie_raw/files.rCRSd.fasta.fasta"
   ]
  },
  {
   "cell_type": "code",
   "execution_count": 9,
   "metadata": {},
   "outputs": [
    {
     "name": "stdout",
     "output_type": "stream",
     "text": [
      "Using 'default' as the default tag for 'rCRSd/fasta'\n",
      "Recipe validated successfully against a schema: /Library/Frameworks/Python.framework/Versions/3.6/lib/python3.6/site-packages/refgenie/schemas/recipe_schema.yaml\n",
      "Building 'rCRSd/fasta:default' using 'fasta' recipe\n",
      "Initializing genome: rCRSd\n",
      "Loaded AnnotatedSequenceDigestList (1 sequences)\n",
      "Set genome alias (511fb1178275e7d529560d53b949dba40815f195623bce8e: rCRSd)\n",
      "Created alias directories: \n",
      " - /Users/mstolarczyk/code/refgenie/docs_jupyter/alias/rCRSd\n",
      "Saving outputs to:\n",
      "- content: /Users/mstolarczyk/code/refgenie/docs_jupyter/data/511fb1178275e7d529560d53b949dba40815f195623bce8e\n",
      "- logs: /Users/mstolarczyk/code/refgenie/docs_jupyter/data/511fb1178275e7d529560d53b949dba40815f195623bce8e/fasta/default/_refgenie_build\n",
      "### Pipeline run code and environment:\n",
      "\n",
      "*              Command:  `/Library/Frameworks/Python.framework/Versions/3.6/bin/refgenie build rCRSd/fasta -c refgenie.yaml --files fasta=rCRSd.fa.gz -R`\n",
      "*         Compute host:  MichalsMBP\n",
      "*          Working dir:  /Users/mstolarczyk/code/refgenie/docs_jupyter\n",
      "*            Outfolder:  /Users/mstolarczyk/code/refgenie/docs_jupyter/data/511fb1178275e7d529560d53b949dba40815f195623bce8e/fasta/default/_refgenie_build/\n",
      "*  Pipeline started at:   (10-30 10:53:03) elapsed: 0.0 _TIME_\n",
      "\n",
      "### Version log:\n",
      "\n",
      "*       Python version:  3.6.5\n",
      "*          Pypiper dir:  `/Library/Frameworks/Python.framework/Versions/3.6/lib/python3.6/site-packages/pypiper`\n",
      "*      Pypiper version:  0.12.1\n",
      "*         Pipeline dir:  `/Library/Frameworks/Python.framework/Versions/3.6/bin`\n",
      "*     Pipeline version:  None\n",
      "\n",
      "### Arguments passed to pipeline:\n",
      "\n",
      "* `asset_registry_paths`:  `['rCRSd/fasta']`\n",
      "*             `assets`:  `None`\n",
      "*            `command`:  `build`\n",
      "*        `config_file`:  `refgenie.yaml`\n",
      "*             `docker`:  `False`\n",
      "*              `files`:  `[['fasta=rCRSd.fa.gz']]`\n",
      "*             `genome`:  `None`\n",
      "*      `genome_config`:  `refgenie.yaml`\n",
      "* `genome_description`:  `None`\n",
      "*             `logdev`:  `False`\n",
      "*          `new_start`:  `False`\n",
      "*          `outfolder`:  `/Users/mstolarczyk/code/refgenie/docs_jupyter/data`\n",
      "*             `params`:  `None`\n",
      "*             `recipe`:  `None`\n",
      "*            `recover`:  `True`\n",
      "*       `requirements`:  `False`\n",
      "*             `silent`:  `False`\n",
      "*     `skip_read_lock`:  `False`\n",
      "*    `tag_description`:  `None`\n",
      "*          `verbosity`:  `None`\n",
      "*            `volumes`:  `None`\n",
      "\n",
      "----------------------------------------\n",
      "\n",
      "Target to produce: `/Users/mstolarczyk/code/refgenie/docs_jupyter/data/511fb1178275e7d529560d53b949dba40815f195623bce8e/fasta/default/_refgenie_build/511fb1178275e7d529560d53b949dba40815f195623bce8e_fasta__default.flag`  \n",
      "\n",
      "> `cp rCRSd.fa.gz /Users/mstolarczyk/code/refgenie/docs_jupyter/data/511fb1178275e7d529560d53b949dba40815f195623bce8e/fasta/default/511fb1178275e7d529560d53b949dba40815f195623bce8e.fa.gz` (17678)\n",
      "<pre>\n",
      "psutil.ZombieProcess process still exists but it's a zombie (pid=17678)\n",
      "Warning: couldn't add memory use for process: 17678\n",
      "</pre>\n",
      "Command completed. Elapsed time: 0:00:00. Running peak memory: 0GB.  \n",
      "  PID: 17678;\tCommand: cp;\tReturn code: 0;\tMemory used: 0GB\n",
      "\n",
      "\n",
      "> `gzip -df /Users/mstolarczyk/code/refgenie/docs_jupyter/data/511fb1178275e7d529560d53b949dba40815f195623bce8e/fasta/default/511fb1178275e7d529560d53b949dba40815f195623bce8e.fa.gz` (17680)\n",
      "<pre>\n",
      "psutil.ZombieProcess process still exists but it's a zombie (pid=17680)\n",
      "Warning: couldn't add memory use for process: 17680\n",
      "</pre>\n",
      "Command completed. Elapsed time: 0:00:00. Running peak memory: 0GB.  \n",
      "  PID: 17680;\tCommand: gzip;\tReturn code: 0;\tMemory used: 0GB\n",
      "\n",
      "\n",
      "> `samtools faidx /Users/mstolarczyk/code/refgenie/docs_jupyter/data/511fb1178275e7d529560d53b949dba40815f195623bce8e/fasta/default/511fb1178275e7d529560d53b949dba40815f195623bce8e.fa` (17681)\n",
      "<pre>\n",
      "psutil.ZombieProcess process still exists but it's a zombie (pid=17681)\n",
      "Warning: couldn't add memory use for process: 17681\n",
      "</pre>\n",
      "Command completed. Elapsed time: 0:00:00. Running peak memory: 0GB.  \n",
      "  PID: 17681;\tCommand: samtools;\tReturn code: 0;\tMemory used: 0GB\n",
      "\n",
      "\n",
      "> `cut -f 1,2 /Users/mstolarczyk/code/refgenie/docs_jupyter/data/511fb1178275e7d529560d53b949dba40815f195623bce8e/fasta/default/511fb1178275e7d529560d53b949dba40815f195623bce8e.fa.fai > /Users/mstolarczyk/code/refgenie/docs_jupyter/data/511fb1178275e7d529560d53b949dba40815f195623bce8e/fasta/default/511fb1178275e7d529560d53b949dba40815f195623bce8e.chrom.sizes` (17682)\n",
      "<pre>\n",
      "psutil.ZombieProcess process still exists but it's a zombie (pid=17682)\n",
      "Warning: couldn't add memory use for process: 17682\n",
      "</pre>\n",
      "Command completed. Elapsed time: 0:00:00. Running peak memory: 0GB.  \n",
      "  PID: 17682;\tCommand: cut;\tReturn code: 0;\tMemory used: 0GB\n",
      "\n",
      "\n",
      "> `touch /Users/mstolarczyk/code/refgenie/docs_jupyter/data/511fb1178275e7d529560d53b949dba40815f195623bce8e/fasta/default/_refgenie_build/511fb1178275e7d529560d53b949dba40815f195623bce8e_fasta__default.flag` (17684)\n",
      "<pre>\n",
      "psutil.ZombieProcess process still exists but it's a zombie (pid=17684)\n",
      "Warning: couldn't add memory use for process: 17684\n",
      "</pre>\n",
      "Command completed. Elapsed time: 0:00:00. Running peak memory: 0GB.  \n",
      "  PID: 17684;\tCommand: touch;\tReturn code: 0;\tMemory used: 0GB\n",
      "\n",
      "Asset digest: 4eb430296bc02ed7e4006624f1d5ac53\n",
      "Default tag for '511fb1178275e7d529560d53b949dba40815f195623bce8e/fasta' set to: default\n",
      "\n",
      "### Pipeline completed. Epilogue\n",
      "*        Elapsed time (this run):  0:00:00\n",
      "*  Total elapsed time (all runs):  0:00:00\n",
      "*         Peak memory (this run):  0 GB\n",
      "*        Pipeline completed time: 2020-10-30 10:53:03\n",
      "Finished building 'fasta' asset\n",
      "Created alias directories: \n",
      " - /Users/mstolarczyk/code/refgenie/docs_jupyter/alias/rCRSd/fasta/default\n"
     ]
    }
   ],
   "source": [
    "!refgenie build rCRSd/fasta -c refgenie.yaml  --files fasta=rCRSd.fa.gz -R"
   ]
  },
  {
   "cell_type": "code",
   "execution_count": 10,
   "metadata": {},
   "outputs": [
    {
     "name": "stdout",
     "output_type": "stream",
     "text": [
      "/Users/mstolarczyk/code/refgenie/docs_jupyter/alias/rCRSd/fasta/default/rCRSd.fa\r\n"
     ]
    }
   ],
   "source": [
    "!refgenie seek rCRSd/fasta -c refgenie.yaml"
   ]
  },
  {
   "cell_type": "markdown",
   "metadata": {},
   "source": [
    "You can do the same thing from within python:"
   ]
  },
  {
   "cell_type": "code",
   "execution_count": 11,
   "metadata": {},
   "outputs": [
    {
     "data": {
      "text/plain": [
       "'/Users/mstolarczyk/code/refgenie/docs_jupyter/alias/rCRSd/fasta/default/rCRSd.fa'"
      ]
     },
     "execution_count": 11,
     "metadata": {},
     "output_type": "execute_result"
    }
   ],
   "source": [
    "rgc = refgenconf.RefGenConf(\"refgenie.yaml\")\n",
    "rgc.seek(\"rCRSd\", \"fasta\")"
   ]
  },
  {
   "cell_type": "markdown",
   "metadata": {},
   "source": [
    " Now if you have bowtie2-build in your PATH you can build the bowtie2 index with no further requirements.\n",
    "\n",
    "You can see the requirements with `--requirements`:\n"
   ]
  },
  {
   "cell_type": "code",
   "execution_count": 12,
   "metadata": {},
   "outputs": [
    {
     "name": "stdout",
     "output_type": "stream",
     "text": [
      "'bowtie2_index' recipe requirements: \r\n",
      "- assets:\r\n",
      "\tfasta (fasta asset for genome); default: fasta\r\n"
     ]
    }
   ],
   "source": [
    "!refgenie build rCRSd/bowtie2_index -c refgenie.yaml --requirements"
   ]
  },
  {
   "cell_type": "markdown",
   "metadata": {},
   "source": [
    "Since I already have the fasta asset, that means I don't need anything else to build the bowtie2_index."
   ]
  },
  {
   "cell_type": "code",
   "execution_count": null,
   "metadata": {},
   "outputs": [],
   "source": [
    "!refgenie build rCRSd/bowtie2_index -c refgenie.yaml"
   ]
  },
  {
   "cell_type": "markdown",
   "metadata": {},
   "source": [
    "You can see a list of available recipes like this:"
   ]
  },
  {
   "cell_type": "code",
   "execution_count": null,
   "metadata": {},
   "outputs": [],
   "source": [
    "!refgenie list -c refgenie.yaml"
   ]
  },
  {
   "cell_type": "markdown",
   "metadata": {},
   "source": [
    "You can get the unique digest for any asset with `refgenie id`:"
   ]
  },
  {
   "cell_type": "code",
   "execution_count": null,
   "metadata": {},
   "outputs": [],
   "source": [
    "!refgenie id rCRSd/fasta -c refgenie.yaml"
   ]
  },
  {
   "cell_type": "markdown",
   "metadata": {},
   "source": [
    "## Versions"
   ]
  },
  {
   "cell_type": "code",
   "execution_count": null,
   "metadata": {},
   "outputs": [],
   "source": [
    "from platform import python_version \n",
    "python_version()"
   ]
  },
  {
   "cell_type": "code",
   "execution_count": null,
   "metadata": {},
   "outputs": [],
   "source": [
    "!refgenie --version"
   ]
  }
 ],
 "metadata": {
  "kernelspec": {
   "display_name": "Python 3",
   "language": "python",
   "name": "python3"
  },
  "language_info": {
   "codemirror_mode": {
    "name": "ipython",
    "version": 3
   },
   "file_extension": ".py",
   "mimetype": "text/x-python",
   "name": "python",
   "nbconvert_exporter": "python",
   "pygments_lexer": "ipython3",
   "version": "3.6.5"
  }
 },
 "nbformat": 4,
 "nbformat_minor": 2
}
