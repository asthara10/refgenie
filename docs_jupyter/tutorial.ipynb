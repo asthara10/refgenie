{
 "cells": [
  {
   "cell_type": "markdown",
   "metadata": {},
   "source": [
    "# Tutorial\n",
    "\n",
    "I assume you've already installed refgenie. In this tutorial I'll show you a few ways to use refgenie from the command line (commands that start with a `!`), and also some Python commands.\n",
    "\n",
    "To start, initialize an empty refgenie configuration file from the shell:"
   ]
  },
  {
   "cell_type": "code",
   "execution_count": 1,
   "metadata": {
    "scrolled": true
   },
   "outputs": [
    {
     "name": "stdout",
     "output_type": "stream",
     "text": [
      "Initialized genome configuration file: /home/nsheff/code/refgenie/docs_jupyter/refgenie.yaml\r\n"
     ]
    }
   ],
   "source": [
    "!refgenie init -c refgenie.yaml"
   ]
  },
  {
   "cell_type": "markdown",
   "metadata": {},
   "source": [
    "Here's what it looks like:"
   ]
  },
  {
   "cell_type": "code",
   "execution_count": 2,
   "metadata": {},
   "outputs": [
    {
     "name": "stdout",
     "output_type": "stream",
     "text": [
      "config_version: 0.3\r\n",
      "genome_folder: /home/nsheff/code/refgenie/docs_jupyter\r\n",
      "genome_servers: ['http://refgenomes.databio.org']\r\n",
      "genomes: null\r\n"
     ]
    }
   ],
   "source": [
    "!cat refgenie.yaml"
   ]
  },
  {
   "cell_type": "markdown",
   "metadata": {},
   "source": [
    "Now let's enter python and do some stuff."
   ]
  },
  {
   "cell_type": "code",
   "execution_count": 3,
   "metadata": {},
   "outputs": [],
   "source": [
    "import refgenconf\n",
    "rgc = refgenconf.RefGenConf(\"refgenie.yaml\")"
   ]
  },
  {
   "cell_type": "markdown",
   "metadata": {},
   "source": [
    "Use `pull` to download the actual asset:"
   ]
  },
  {
   "cell_type": "code",
   "execution_count": 4,
   "metadata": {},
   "outputs": [
    {
     "name": "stderr",
     "output_type": "stream",
     "text": [
      "                                                       \r"
     ]
    },
    {
     "data": {
      "text/plain": [
       "(['hs38d1', 'fasta', 'default'],\n",
       " {'archive_digest': '310c578812a64fcdf08d2df60d7b79b4',\n",
       "  'archive_size': '1.7MB',\n",
       "  'asset_children': ['hs38d1/star_index:default',\n",
       "   'hs38d1/bwa_index:default',\n",
       "   'hs38d1/bowtie2_index:default',\n",
       "   'hs38d1/bismark_bt1_index:default',\n",
       "   'hs38d1/bismark_bt2_index:default',\n",
       "   'hs38d1/hisat2_index:default',\n",
       "   'hs38d1/tallymer_index:default',\n",
       "   'hs38d1/suffixerator_index:default'],\n",
       "  'asset_digest': 'eddf5466faa3391a7114e87648466dcb',\n",
       "  'asset_parents': [],\n",
       "  'asset_path': 'fasta',\n",
       "  'asset_size': '6.0MB',\n",
       "  'seek_keys': {'chrom_sizes': 'hs38d1.chrom.sizes',\n",
       "   'fai': 'hs38d1.fa.fai',\n",
       "   'fasta': 'hs38d1.fa'}},\n",
       " 'http://refgenomes.databio.org')"
      ]
     },
     "execution_count": 4,
     "metadata": {},
     "output_type": "execute_result"
    }
   ],
   "source": [
    "rgc.pull(\"hs38d1\", \"fasta\", \"default\")"
   ]
  },
  {
   "cell_type": "markdown",
   "metadata": {},
   "source": [
    "Once it's downloaded, use `seek` to retrieve a path to it."
   ]
  },
  {
   "cell_type": "code",
   "execution_count": 5,
   "metadata": {},
   "outputs": [
    {
     "data": {
      "text/plain": [
       "'/home/nsheff/code/refgenie/docs_jupyter/hs38d1/fasta/default/hs38d1.fa'"
      ]
     },
     "execution_count": 5,
     "metadata": {},
     "output_type": "execute_result"
    }
   ],
   "source": [
    "rgc.seek(\"hs38d1\", \"fasta\")"
   ]
  },
  {
   "cell_type": "markdown",
   "metadata": {},
   "source": [
    "You can get the unique asset identifier with `id()`"
   ]
  },
  {
   "cell_type": "code",
   "execution_count": 6,
   "metadata": {},
   "outputs": [
    {
     "data": {
      "text/plain": [
       "'eddf5466faa3391a7114e87648466dcb'"
      ]
     },
     "execution_count": 6,
     "metadata": {},
     "output_type": "execute_result"
    }
   ],
   "source": [
    "rgc.id(\"hs38d1\", \"fasta\")"
   ]
  },
  {
   "cell_type": "markdown",
   "metadata": {},
   "source": [
    "## Building and pulling from the command line"
   ]
  },
  {
   "cell_type": "markdown",
   "metadata": {},
   "source": [
    "Here, we can build a fasta asset instead of pulling one. Back to the shell, we'll grab the Revised Cambridge Reference Sequence (human mitochondrial genome, because it's small):"
   ]
  },
  {
   "cell_type": "code",
   "execution_count": 7,
   "metadata": {},
   "outputs": [
    {
     "name": "stdout",
     "output_type": "stream",
     "text": [
      "--2020-03-13 16:11:59--  http://big.databio.org/refgenie_raw/rCRSd.fa.gz\r\n",
      "Resolving big.databio.org (big.databio.org)... 128.143.245.181\r\n",
      "Connecting to big.databio.org (big.databio.org)|128.143.245.181|:80... connected.\r\n",
      "HTTP request sent, awaiting response... 200 OK\r\n",
      "Length: 8399 (8.2K) [application/octet-stream]\r\n",
      "Saving to: ‘rCRSd.fa.gz’\r\n",
      "\r\n",
      "\r",
      "rCRSd.fa.gz           0%[                    ]       0  --.-KB/s               \r",
      "rCRSd.fa.gz         100%[===================>]   8.20K  --.-KB/s    in 0s      \r\n",
      "\r\n",
      "2020-03-13 16:11:59 (214 MB/s) - ‘rCRSd.fa.gz’ saved [8399/8399]\r\n",
      "\r\n"
     ]
    }
   ],
   "source": [
    "!wget http://big.databio.org/refgenie_raw/rCRSd.fa.gz"
   ]
  },
  {
   "cell_type": "code",
   "execution_count": 8,
   "metadata": {},
   "outputs": [
    {
     "name": "stdout",
     "output_type": "stream",
     "text": [
      "Using 'default' as the default tag for 'rCRSd/fasta'\n",
      "Building 'rCRSd/fasta:default' using 'fasta' recipe\n",
      "Saving outputs to:\n",
      "- content: /home/nsheff/code/refgenie/docs_jupyter/rCRSd\n",
      "- logs: /home/nsheff/code/refgenie/docs_jupyter/rCRSd/fasta/default/_refgenie_build\n",
      "### Pipeline run code and environment:\n",
      "\n",
      "*              Command:  `/home/nsheff/.local/bin/refgenie build rCRSd/fasta -c refgenie.yaml --files fasta=rCRSd.fa.gz -R`\n",
      "*         Compute host:  puma\n",
      "*          Working dir:  /home/nsheff/code/refgenie/docs_jupyter\n",
      "*            Outfolder:  /home/nsheff/code/refgenie/docs_jupyter/rCRSd/fasta/default/_refgenie_build/\n",
      "*  Pipeline started at:   (03-13 16:11:59) elapsed: 0.0 _TIME_\n",
      "\n",
      "### Version log:\n",
      "\n",
      "*       Python version:  3.7.6\n",
      "*          Pypiper dir:  `/home/nsheff/.local/lib/python3.7/site-packages/pypiper`\n",
      "*      Pypiper version:  0.12.1\n",
      "*         Pipeline dir:  `/home/nsheff/.local/bin`\n",
      "*     Pipeline version:  None\n",
      "\n",
      "### Arguments passed to pipeline:\n",
      "\n",
      "* `asset_registry_paths`:  `['rCRSd/fasta']`\n",
      "*             `assets`:  `None`\n",
      "*            `command`:  `build`\n",
      "*        `config_file`:  `refgenie.yaml`\n",
      "*             `docker`:  `False`\n",
      "*              `files`:  `[['fasta=rCRSd.fa.gz']]`\n",
      "*             `genome`:  `None`\n",
      "*      `genome_config`:  `refgenie.yaml`\n",
      "* `genome_description`:  `None`\n",
      "*             `logdev`:  `False`\n",
      "*          `new_start`:  `False`\n",
      "*          `outfolder`:  `/home/nsheff/code/refgenie/docs_jupyter`\n",
      "*             `params`:  `None`\n",
      "*             `recipe`:  `None`\n",
      "*            `recover`:  `True`\n",
      "*       `requirements`:  `False`\n",
      "*             `silent`:  `False`\n",
      "*    `tag_description`:  `None`\n",
      "*          `verbosity`:  `None`\n",
      "*            `volumes`:  `None`\n",
      "\n",
      "----------------------------------------\n",
      "\n",
      "Target to produce: `/home/nsheff/code/refgenie/docs_jupyter/rCRSd/fasta/default/_refgenie_build/rCRSd_fasta__default.flag`  \n",
      "\n",
      "> `cp rCRSd.fa.gz /home/nsheff/code/refgenie/docs_jupyter/rCRSd/fasta/default/rCRSd.fa.gz` (28689)\n",
      "<pre>\n",
      "</pre>\n",
      "Command completed. Elapsed time: 0:00:00. Running peak memory: 0GB.  \n",
      "  PID: 28689;\tCommand: cp;\tReturn code: 0;\tMemory used: 0.0GB\n",
      "\n",
      "\n",
      "> `gzip -d /home/nsheff/code/refgenie/docs_jupyter/rCRSd/fasta/default/rCRSd.fa.gz` (28691)\n",
      "<pre>\n",
      "</pre>\n",
      "Command completed. Elapsed time: 0:00:00. Running peak memory: 0GB.  \n",
      "  PID: 28691;\tCommand: gzip;\tReturn code: 0;\tMemory used: 0.0GB\n",
      "\n",
      "\n",
      "> `samtools faidx /home/nsheff/code/refgenie/docs_jupyter/rCRSd/fasta/default/rCRSd.fa` (28693)\n",
      "<pre>\n",
      "</pre>\n",
      "Command completed. Elapsed time: 0:00:01. Running peak memory: 0.018GB.  \n",
      "  PID: 28693;\tCommand: samtools;\tReturn code: 0;\tMemory used: 0.018GB\n",
      "\n",
      "\n",
      "> `cut -f 1,2 /home/nsheff/code/refgenie/docs_jupyter/rCRSd/fasta/default/rCRSd.fa.fai > /home/nsheff/code/refgenie/docs_jupyter/rCRSd/fasta/default/rCRSd.chrom.sizes` (28761)\n",
      "<pre>\n",
      "</pre>\n",
      "Command completed. Elapsed time: 0:00:00. Running peak memory: 0.018GB.  \n",
      "  PID: 28761;\tCommand: cut;\tReturn code: 0;\tMemory used: 0.0GB\n",
      "\n",
      "\n",
      "> `touch /home/nsheff/code/refgenie/docs_jupyter/rCRSd/fasta/default/_refgenie_build/rCRSd_fasta__default.flag` (28763)\n",
      "<pre>\n",
      "</pre>\n",
      "Command completed. Elapsed time: 0:00:00. Running peak memory: 0.018GB.  \n",
      "  PID: 28763;\tCommand: touch;\tReturn code: 0;\tMemory used: 0.0GB\n",
      "\n",
      "\n",
      "> `cd /home/nsheff/code/refgenie/docs_jupyter/rCRSd/fasta/default; find . -type f -not -path './_refgenie_build*' -exec md5sum {} \\; | sort -k 2 | awk '{print $1}' | md5sum`\n",
      "Asset digest: 4eb430296bc02ed7e4006624f1d5ac53\n",
      "Default tag for 'rCRSd/fasta' set to: default\n",
      "\n",
      "### Pipeline completed. Epilogue\n",
      "*        Elapsed time (this run):  0:00:01\n",
      "*  Total elapsed time (all runs):  0:00:01\n",
      "*         Peak memory (this run):  0.0184 GB\n",
      "*        Pipeline completed time: 2020-03-13 16:12:00\n",
      "Computing initial genome digest...\n",
      "Initializing genome...\n",
      "Finished building 'fasta' asset\n"
     ]
    }
   ],
   "source": [
    "!refgenie build rCRSd/fasta -c refgenie.yaml  --files fasta=rCRSd.fa.gz -R"
   ]
  },
  {
   "cell_type": "code",
   "execution_count": 9,
   "metadata": {},
   "outputs": [
    {
     "name": "stdout",
     "output_type": "stream",
     "text": [
      "/home/nsheff/code/refgenie/docs_jupyter/rCRSd/fasta/default/rCRSd.fa\r\n"
     ]
    }
   ],
   "source": [
    "!refgenie seek rCRSd/fasta -c refgenie.yaml"
   ]
  },
  {
   "cell_type": "markdown",
   "metadata": {},
   "source": [
    "You can do the same thing from within python:"
   ]
  },
  {
   "cell_type": "code",
   "execution_count": 10,
   "metadata": {},
   "outputs": [
    {
     "data": {
      "text/plain": [
       "'/home/nsheff/code/refgenie/docs_jupyter/rCRSd/fasta/default/rCRSd.fa'"
      ]
     },
     "execution_count": 10,
     "metadata": {},
     "output_type": "execute_result"
    }
   ],
   "source": [
    "rgc = refgenconf.RefGenConf(\"refgenie.yaml\")\n",
    "rgc.seek(\"rCRSd\", \"fasta\")"
   ]
  },
  {
   "cell_type": "markdown",
   "metadata": {},
   "source": [
    " Now if you have bowtie2-build in your PATH you can build the bowtie2 index with no further requirements.\n",
    "\n",
    "You can see the requirements with `--requirements`:\n"
   ]
  },
  {
   "cell_type": "code",
   "execution_count": 11,
   "metadata": {},
   "outputs": [
    {
     "name": "stdout",
     "output_type": "stream",
     "text": [
      "'bowtie2_index' recipe requirements: \r\n",
      "- assets:\r\n",
      "\tfasta (fasta asset for genome); default: fasta\r\n"
     ]
    }
   ],
   "source": [
    "!refgenie build rCRSd/bowtie2_index -c refgenie.yaml --requirements"
   ]
  },
  {
   "cell_type": "markdown",
   "metadata": {},
   "source": [
    "Since I already have the fasta asset, that means I don't need anything else to build the bowtie2_index."
   ]
  },
  {
   "cell_type": "code",
   "execution_count": 12,
   "metadata": {},
   "outputs": [
    {
     "name": "stdout",
     "output_type": "stream",
     "text": [
      "Using 'default' as the default tag for 'rCRSd/bowtie2_index'\n",
      "Building 'rCRSd/bowtie2_index:default' using 'bowtie2_index' recipe\n",
      "Saving outputs to:\n",
      "- content: /home/nsheff/code/refgenie/docs_jupyter/rCRSd\n",
      "- logs: /home/nsheff/code/refgenie/docs_jupyter/rCRSd/bowtie2_index/default/_refgenie_build\n",
      "### Pipeline run code and environment:\n",
      "\n",
      "*              Command:  `/home/nsheff/.local/bin/refgenie build rCRSd/bowtie2_index -c refgenie.yaml`\n",
      "*         Compute host:  puma\n",
      "*          Working dir:  /home/nsheff/code/refgenie/docs_jupyter\n",
      "*            Outfolder:  /home/nsheff/code/refgenie/docs_jupyter/rCRSd/bowtie2_index/default/_refgenie_build/\n",
      "*  Pipeline started at:   (03-13 16:12:02) elapsed: 0.0 _TIME_\n",
      "\n",
      "### Version log:\n",
      "\n",
      "*       Python version:  3.7.6\n",
      "*          Pypiper dir:  `/home/nsheff/.local/lib/python3.7/site-packages/pypiper`\n",
      "*      Pypiper version:  0.12.1\n",
      "*         Pipeline dir:  `/home/nsheff/.local/bin`\n",
      "*     Pipeline version:  None\n",
      "\n",
      "### Arguments passed to pipeline:\n",
      "\n",
      "* `asset_registry_paths`:  `['rCRSd/bowtie2_index']`\n",
      "*             `assets`:  `None`\n",
      "*            `command`:  `build`\n",
      "*        `config_file`:  `refgenie.yaml`\n",
      "*             `docker`:  `False`\n",
      "*              `files`:  `None`\n",
      "*             `genome`:  `None`\n",
      "*      `genome_config`:  `refgenie.yaml`\n",
      "* `genome_description`:  `None`\n",
      "*             `logdev`:  `False`\n",
      "*          `new_start`:  `False`\n",
      "*          `outfolder`:  `/home/nsheff/code/refgenie/docs_jupyter`\n",
      "*             `params`:  `None`\n",
      "*             `recipe`:  `None`\n",
      "*            `recover`:  `False`\n",
      "*       `requirements`:  `False`\n",
      "*             `silent`:  `False`\n",
      "*    `tag_description`:  `None`\n",
      "*          `verbosity`:  `None`\n",
      "*            `volumes`:  `None`\n",
      "\n",
      "----------------------------------------\n",
      "\n",
      "Target to produce: `/home/nsheff/code/refgenie/docs_jupyter/rCRSd/bowtie2_index/default/_refgenie_build/rCRSd_bowtie2_index__default.flag`  \n",
      "\n",
      "> `bowtie2-build /home/nsheff/code/refgenie/docs_jupyter/rCRSd/fasta/default/rCRSd.fa /home/nsheff/code/refgenie/docs_jupyter/rCRSd/bowtie2_index/default/rCRSd` (28812)\n",
      "<pre>\n",
      "Building a SMALL index\n",
      "Settings:\n",
      "  Output files: \"/home/nsheff/code/refgenie/docs_jupyter/rCRSd/bowtie2_index/default/rCRSd.*.bt2\"\n",
      "  Line rate: 6 (line is 64 bytes)\n",
      "  Lines per side: 1 (side is 64 bytes)\n",
      "  Offset rate: 4 (one in 16)\n",
      "  FTable chars: 10\n",
      "  Strings: unpacked\n",
      "  Max bucket size: default\n",
      "  Max bucket size, sqrt multiplier: default\n",
      "  Max bucket size, len divisor: 4\n",
      "  Difference-cover sample period: 1024\n",
      "  Endianness: little\n",
      "  Actual local endianness: little\n",
      "  Sanity checking: disabled\n",
      "  Assertions: disabled\n",
      "  Random seed: 0\n",
      "  Sizeofs: void*:8, int:4, long:8, size_t:8\n",
      "Input files DNA, FASTA:\n",
      "  /home/nsheff/code/refgenie/docs_jupyter/rCRSd/fasta/default/rCRSd.fa\n",
      "Reading reference sizes\n",
      "  Time reading reference sizes: 00:00:00\n",
      "Calculating joined length\n",
      "Writing header\n",
      "Reserving space for joined string\n",
      "Joining reference sequences\n",
      "  Time to join reference sequences: 00:00:00\n",
      "bmax according to bmaxDivN setting: 8284\n",
      "Using parameters --bmax 6213 --dcv 1024\n",
      "  Doing ahead-of-time memory usage test\n",
      "  Passed!  Constructing with these parameters: --bmax 6213 --dcv 1024\n",
      "Constructing suffix-array element generator\n",
      "Building DifferenceCoverSample\n",
      "  Building sPrime\n",
      "  Building sPrimeOrder\n",
      "  V-Sorting samples\n",
      "  V-Sorting samples time: 00:00:00\n",
      "  Allocating rank array\n",
      "  Ranking v-sort output\n",
      "  Ranking v-sort output time: 00:00:00\n",
      "  Invoking Larsson-Sadakane on ranks\n",
      "  Invoking Larsson-Sadakane on ranks time: 00:00:00\n",
      "  Sanity-checking and returning\n",
      "Building samples\n",
      "Reserving space for 12 sample suffixes\n",
      "Generating random suffixes\n",
      "QSorting 12 sample offsets, eliminating duplicates\n",
      "QSorting sample offsets, eliminating duplicates time: 00:00:00\n",
      "Multikey QSorting 12 samples\n",
      "  (Using difference cover)\n",
      "  Multikey QSorting samples time: 00:00:00\n",
      "Calculating bucket sizes\n",
      "Splitting and merging\n",
      "  Splitting and merging time: 00:00:00\n",
      "Avg bucket size: 33136 (target: 6212)\n",
      "Converting suffix-array elements to index image\n",
      "Allocating ftab, absorbFtab\n",
      "Entering Ebwt loop\n",
      "Getting block 1 of 1\n",
      "  No samples; assembling all-inclusive block\n",
      "  Sorting block of length 33136 for bucket 1\n",
      "  (Using difference cover)\n",
      "  Sorting block time: 00:00:00\n",
      "Returning block of 33137 for bucket 1\n",
      "Exited Ebwt loop\n",
      "fchr[A]: 0\n",
      "fchr[C]: 10248\n",
      "fchr[G]: 20610\n",
      "fchr[T]: 24948\n",
      "fchr[$]: 33136\n",
      "Exiting Ebwt::buildToDisk()\n",
      "Returning from initFromVector\n",
      "Wrote 4205567 bytes to primary EBWT file: /home/nsheff/code/refgenie/docs_jupyter/rCRSd/bowtie2_index/default/rCRSd.1.bt2\n",
      "Wrote 8292 bytes to secondary EBWT file: /home/nsheff/code/refgenie/docs_jupyter/rCRSd/bowtie2_index/default/rCRSd.2.bt2\n",
      "Re-opening _in1 and _in2 as input streams\n",
      "Returning from Ebwt constructor\n",
      "Headers:\n",
      "    len: 33136\n",
      "    bwtLen: 33137\n",
      "    sz: 8284\n",
      "    bwtSz: 8285\n",
      "    lineRate: 6\n",
      "    offRate: 4\n",
      "    offMask: 0xfffffff0\n",
      "    ftabChars: 10\n",
      "    eftabLen: 20\n",
      "    eftabSz: 80\n",
      "    ftabLen: 1048577\n",
      "    ftabSz: 4194308\n",
      "    offsLen: 2072\n",
      "    offsSz: 8288\n",
      "    lineSz: 64\n",
      "    sideSz: 64\n",
      "    sideBwtSz: 48\n",
      "    sideBwtLen: 192\n",
      "    numSides: 173\n",
      "    numLines: 173\n",
      "    ebwtTotLen: 11072\n",
      "    ebwtTotSz: 11072\n",
      "    color: 0\n",
      "    reverse: 0\n",
      "Total time for call to driver() for forward index: 00:00:00\n",
      "Reading reference sizes\n",
      "  Time reading reference sizes: 00:00:00\n",
      "Calculating joined length\n",
      "Writing header\n",
      "Reserving space for joined string\n",
      "Joining reference sequences\n",
      "  Time to join reference sequences: 00:00:00\n",
      "  Time to reverse reference sequence: 00:00:00\n",
      "bmax according to bmaxDivN setting: 8284\n",
      "Using parameters --bmax 6213 --dcv 1024\n",
      "  Doing ahead-of-time memory usage test\n",
      "  Passed!  Constructing with these parameters: --bmax 6213 --dcv 1024\n",
      "Constructing suffix-array element generator\n",
      "Building DifferenceCoverSample\n",
      "  Building sPrime\n",
      "  Building sPrimeOrder\n",
      "  V-Sorting samples\n",
      "  V-Sorting samples time: 00:00:00\n",
      "  Allocating rank array\n",
      "  Ranking v-sort output\n",
      "  Ranking v-sort output time: 00:00:00\n",
      "  Invoking Larsson-Sadakane on ranks\n",
      "  Invoking Larsson-Sadakane on ranks time: 00:00:00\n",
      "  Sanity-checking and returning\n",
      "Building samples\n",
      "Reserving space for 12 sample suffixes\n",
      "Generating random suffixes\n",
      "QSorting 12 sample offsets, eliminating duplicates\n",
      "QSorting sample offsets, eliminating duplicates time: 00:00:00\n",
      "Multikey QSorting 12 samples\n",
      "  (Using difference cover)\n",
      "  Multikey QSorting samples time: 00:00:00\n",
      "Calculating bucket sizes\n",
      "Splitting and merging\n",
      "  Splitting and merging time: 00:00:00\n",
      "Avg bucket size: 33136 (target: 6212)\n",
      "Converting suffix-array elements to index image\n",
      "Allocating ftab, absorbFtab\n",
      "Entering Ebwt loop\n",
      "Getting block 1 of 1\n",
      "  No samples; assembling all-inclusive block\n",
      "  Sorting block of length 33136 for bucket 1\n",
      "  (Using difference cover)\n",
      "  Sorting block time: 00:00:00\n",
      "Returning block of 33137 for bucket 1\n",
      "Exited Ebwt loop\n",
      "fchr[A]: 0\n",
      "fchr[C]: 10248\n",
      "fchr[G]: 20610\n",
      "fchr[T]: 24948\n",
      "fchr[$]: 33136\n",
      "Exiting Ebwt::buildToDisk()\n",
      "Returning from initFromVector\n",
      "Wrote 4205567 bytes to primary EBWT file: /home/nsheff/code/refgenie/docs_jupyter/rCRSd/bowtie2_index/default/rCRSd.rev.1.bt2\n",
      "Wrote 8292 bytes to secondary EBWT file: /home/nsheff/code/refgenie/docs_jupyter/rCRSd/bowtie2_index/default/rCRSd.rev.2.bt2\n",
      "Re-opening _in1 and _in2 as input streams\n",
      "Returning from Ebwt constructor\n",
      "Headers:\n",
      "    len: 33136\n",
      "    bwtLen: 33137\n",
      "    sz: 8284\n",
      "    bwtSz: 8285\n",
      "    lineRate: 6\n",
      "    offRate: 4\n",
      "    offMask: 0xfffffff0\n",
      "    ftabChars: 10\n",
      "    eftabLen: 20\n",
      "    eftabSz: 80\n",
      "    ftabLen: 1048577\n",
      "    ftabSz: 4194308\n",
      "    offsLen: 2072\n",
      "    offsSz: 8288\n",
      "    lineSz: 64\n",
      "    sideSz: 64\n",
      "    sideBwtSz: 48\n",
      "    sideBwtLen: 192\n",
      "    numSides: 173\n",
      "    numLines: 173\n",
      "    ebwtTotLen: 11072\n",
      "    ebwtTotSz: 11072\n",
      "    color: 0\n",
      "    reverse: 1\n",
      "Total time for backward call to driver() for mirror index: 00:00:00\n",
      "</pre>\n",
      "Command completed. Elapsed time: 0:00:01. Running peak memory: 0.019GB.  \n",
      "  PID: 28812;\tCommand: bowtie2-build;\tReturn code: 0;\tMemory used: 0.019GB\n",
      "\n",
      "\n",
      "> `touch /home/nsheff/code/refgenie/docs_jupyter/rCRSd/bowtie2_index/default/_refgenie_build/rCRSd_bowtie2_index__default.flag` (28879)\n",
      "<pre>\n",
      "</pre>\n",
      "Command completed. Elapsed time: 0:00:00. Running peak memory: 0.019GB.  \n",
      "  PID: 28879;\tCommand: touch;\tReturn code: 0;\tMemory used: 0.0GB\n",
      "\n",
      "\n",
      "> `cd /home/nsheff/code/refgenie/docs_jupyter/rCRSd/bowtie2_index/default; find . -type f -not -path './_refgenie_build*' -exec md5sum {} \\; | sort -k 2 | awk '{print $1}' | md5sum`\n",
      "Asset digest: 1262e30d4a87db9365d501de8559b3b4\n",
      "Default tag for 'rCRSd/bowtie2_index' set to: default\n",
      "\n",
      "### Pipeline completed. Epilogue\n",
      "*        Elapsed time (this run):  0:00:01\n",
      "*  Total elapsed time (all runs):  0:00:01\n",
      "*         Peak memory (this run):  0.0188 GB\n",
      "*        Pipeline completed time: 2020-03-13 16:12:03\n",
      "Finished building 'bowtie2_index' asset\n"
     ]
    }
   ],
   "source": [
    "!refgenie build rCRSd/bowtie2_index -c refgenie.yaml"
   ]
  },
  {
   "cell_type": "markdown",
   "metadata": {},
   "source": [
    "You can see a list of available recipes like this:"
   ]
  },
  {
   "cell_type": "code",
   "execution_count": 13,
   "metadata": {},
   "outputs": [
    {
     "name": "stdout",
     "output_type": "stream",
     "text": [
      "Server subscriptions: http://refgenomes.databio.org\r\n",
      "Local genomes: hs38d1, rCRSd\r\n",
      "Local recipes: bismark_bt1_index, bismark_bt2_index, blacklist, bowtie2_index, bwa_index, cellranger_reference, dbnsfp, dbsnp, ensembl_gtf, ensembl_rb, epilog_index, fasta, fasta_txome, feat_annotation, gencode_gtf, hisat2_index, kallisto_index, refgene_anno, salmon_index, salmon_partial_sa_index, salmon_sa_index, star_index, suffixerator_index, tallymer_index\r\n",
      "Local assets:\r\n",
      "              hs38d1/   fasta.chrom_sizes:default, fasta.fai:default, fasta:default\r\n",
      "               rCRSd/   bowtie2_index:default, fasta.chrom_sizes:default, fasta.fai:default, fasta:default\r\n"
     ]
    }
   ],
   "source": [
    "!refgenie list -c refgenie.yaml"
   ]
  },
  {
   "cell_type": "markdown",
   "metadata": {},
   "source": [
    "You can get the unique digest for any asset with `refgenie id`:"
   ]
  },
  {
   "cell_type": "code",
   "execution_count": 14,
   "metadata": {},
   "outputs": [
    {
     "name": "stdout",
     "output_type": "stream",
     "text": [
      "rCRSd/fasta:default,4eb430296bc02ed7e4006624f1d5ac53\r\n"
     ]
    }
   ],
   "source": [
    "!refgenie id rCRSd/fasta -c refgenie.yaml"
   ]
  },
  {
   "cell_type": "markdown",
   "metadata": {},
   "source": [
    "## Versions"
   ]
  },
  {
   "cell_type": "code",
   "execution_count": 15,
   "metadata": {},
   "outputs": [
    {
     "data": {
      "text/plain": [
       "'3.5.2'"
      ]
     },
     "execution_count": 15,
     "metadata": {},
     "output_type": "execute_result"
    }
   ],
   "source": [
    "from platform import python_version \n",
    "python_version()"
   ]
  },
  {
   "cell_type": "code",
   "execution_count": 16,
   "metadata": {},
   "outputs": [
    {
     "name": "stdout",
     "output_type": "stream",
     "text": [
      "refgenie 0.9.0-dev\r\n"
     ]
    }
   ],
   "source": [
    "!refgenie --version"
   ]
  },
  {
   "cell_type": "code",
   "execution_count": 17,
   "metadata": {},
   "outputs": [
    {
     "data": {
      "text/plain": [
       "'0.7.0-dev'"
      ]
     },
     "execution_count": 17,
     "metadata": {},
     "output_type": "execute_result"
    }
   ],
   "source": [
    "refgenconf.__version__"
   ]
  }
 ],
 "metadata": {
  "kernelspec": {
   "display_name": "Python 3",
   "language": "python",
   "name": "python3"
  },
  "language_info": {
   "codemirror_mode": {
    "name": "ipython",
    "version": 3
   },
   "file_extension": ".py",
   "mimetype": "text/x-python",
   "name": "python",
   "nbconvert_exporter": "python",
   "pygments_lexer": "ipython3",
   "version": "3.5.2"
  }
 },
 "nbformat": 4,
 "nbformat_minor": 2
}
