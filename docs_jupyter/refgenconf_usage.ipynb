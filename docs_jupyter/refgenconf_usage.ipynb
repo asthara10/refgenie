{
 "cells": [
  {
   "cell_type": "markdown",
   "metadata": {},
   "source": [
    "# `refgenconf ` how to\n",
    "\n",
    "Below we present an example use of `refgenconf` package that is installed automatically with `refgenie` (separately installable with `pip install refgenconf`).\n",
    "\n",
    "## Goal\n",
    "The goal of the code below is to **get a path to the refgenie-managed fasta file for a user-specified genome**. \n",
    "\n",
    "Genome FASTA is a part of `fasta` asset, accessible as a `fasta` seek key. To retrieve the path this file on the command line one would say: `refgenie seek <genome>/fasta`. For example:\n",
    "```\n",
    "refgenie seek hg38/fasta\n",
    "```\n",
    "\n",
    "## Steps\n",
    "\n",
    "First, let's set the `$REFGENIE` environmet variable. It should be set by a pipeline user or the config file path shoulg be provided explictly, e.g. as an input to the pipeline (here shown as `user_provided_cfg_path`, not provided) "
   ]
  },
  {
   "cell_type": "code",
   "execution_count": 30,
   "metadata": {},
   "outputs": [],
   "source": [
    "import os\n",
    "os.environ[\"REFGENIE\"] = \"./genomes.yaml\"\n",
    "user_provided_cfg_path = None\n",
    "user_provided_genome = \"rCRSd\""
   ]
  },
  {
   "cell_type": "markdown",
   "metadata": {},
   "source": [
    "Next, let's import components of `refgenconf` that we'll use"
   ]
  },
  {
   "cell_type": "code",
   "execution_count": 31,
   "metadata": {},
   "outputs": [],
   "source": [
    "from refgenconf import RefGenConf, select_genome_config, RefgenconfError, CFG_ENV_VARS, CFG_FOLDER_KEY"
   ]
  },
  {
   "cell_type": "markdown",
   "metadata": {},
   "source": [
    "Now, we can use the `select_genome_config` function to determine the preferred path to the config file. If `user_provided_cfg_path` is `None` (not specified) the `$REFGENIE` environment variable is used. "
   ]
  },
  {
   "cell_type": "code",
   "execution_count": 32,
   "metadata": {},
   "outputs": [],
   "source": [
    "refgenie_cfg_path = select_genome_config(filename=user_provided_cfg_path, check_exist=False)"
   ]
  },
  {
   "cell_type": "markdown",
   "metadata": {},
   "source": [
    "The function returns `None` none of the above point to a valid path. That's why we raise an aproppriate error below "
   ]
  },
  {
   "cell_type": "code",
   "execution_count": 33,
   "metadata": {},
   "outputs": [],
   "source": [
    "if not refgenie_cfg_path:\n",
    "    raise OSError(\"Could not determine path to a refgenie genome configuration file. \"\n",
    "                  \"Use --rfg-config argument or set '{}' environment variable to provide it\".\n",
    "                  format(CFG_ENV_VARS))"
   ]
  },
  {
   "cell_type": "markdown",
   "metadata": {},
   "source": [
    "Otherwise it returns a determined path (`str`). So, we check if it exists and read the object if it does. If it does not, we can initialize the config file"
   ]
  },
  {
   "cell_type": "code",
   "execution_count": 36,
   "metadata": {},
   "outputs": [
    {
     "name": "stdout",
     "output_type": "stream",
     "text": [
      "Reading refgenie genome configuration file from file: /Users/mstolarczyk/Uczelnia/UVA/code/refgenie/docs_jupyter/genomes.yaml\n"
     ]
    }
   ],
   "source": [
    "if isinstance(refgenie_cfg_path, str) and os.path.exists(refgenie_cfg_path):\n",
    "    print(\"Reading refgenie genome configuration file from file: {}\".format(refgenie_cfg_path))\n",
    "    rgc = RefGenConf(filepath=refgenie_cfg_path)\n",
    "else:\n",
    "    print(\"File '{}' does not exist. Initializing refgenie genome configuration file.\".format(refgenie_cfg_path))\n",
    "    rgc = RefGenConf(entries={CFG_FOLDER_KEY: os.path.dirname(refgenie_cfg_path)})\n",
    "    rgc.initialize_config_file(filepath=refgenie_cfg_path)"
   ]
  },
  {
   "cell_type": "markdown",
   "metadata": {},
   "source": [
    "Finally, we try to retrieve the path to out asset of interest and pull from `refgenieserver` if the retrieval fails."
   ]
  },
  {
   "cell_type": "code",
   "execution_count": 38,
   "metadata": {},
   "outputs": [
    {
     "name": "stdout",
     "output_type": "stream",
     "text": [
      "Determined path to fasta asset: /Users/mstolarczyk/Uczelnia/UVA/code/refgenie/docs_jupyter/rCRSd/fasta/default/rCRSd.fa\n"
     ]
    }
   ],
   "source": [
    "try:\n",
    "    fasta = rgc.get_asset(genome_name=user_provided_genome, asset_name=\"fasta\", tag_name=\"default\",\n",
    "                                seek_key=\"fasta\")\n",
    "except RefgenconfError:\n",
    "    print(\"Could not determine path to chrom.sizes asset, pulling\")\n",
    "    rgc.pull_asset(genome=user_provided_genome, asset=\"fasta\", tag=\"default\")\n",
    "    fasta = rgc.get_asset(genome_name=user_provided_genome, asset_name=\"fasta\", tag_name=\"default\",\n",
    "                                seek_key=\"fasta\")\n",
    "print(\"Determined path to fasta asset: {}\".format(fasta))"
   ]
  }
 ],
 "metadata": {
  "kernelspec": {
   "display_name": "Python 3",
   "language": "python",
   "name": "python3"
  },
  "language_info": {
   "codemirror_mode": {
    "name": "ipython",
    "version": 3
   },
   "file_extension": ".py",
   "mimetype": "text/x-python",
   "name": "python",
   "nbconvert_exporter": "python",
   "pygments_lexer": "ipython3",
   "version": "3.6.5"
  }
 },
 "nbformat": 4,
 "nbformat_minor": 2
}
